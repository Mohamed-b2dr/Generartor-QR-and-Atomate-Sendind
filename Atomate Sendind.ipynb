{
 "cells": [
  {
   "cell_type": "code",
   "execution_count": 4,
   "metadata": {},
   "outputs": [],
   "source": [
    "import pandas as pd\n",
    "# Get Email Addreses\n",
    "sheet=\"CAT Reloaded.xlsx\"\n",
    "email_list = pd.read_excel(sheet)\n",
    "all_emails = email_list['Email']"
   ]
  },
  {
   "cell_type": "code",
   "execution_count": 5,
   "metadata": {},
   "outputs": [],
   "source": [
    "import smtplib\n",
    "import imghdr\n",
    "from email.message import EmailMessage"
   ]
  },
  {
   "cell_type": "code",
   "execution_count": 9,
   "metadata": {},
   "outputs": [],
   "source": [
    "#your email info\n",
    "Sender_Email =\"mohamed.02.badr@gmail.com\" \n",
    "password = \"password\"\n",
    "your_name = \"CAT Reloaded | HR\""
   ]
  },
  {
   "cell_type": "code",
   "execution_count": 10,
   "metadata": {},
   "outputs": [],
   "source": [
    "Subject = \"CS Circle Mails | Final Result \"\n",
    "\n",
    "Message=\"\"\"Dear CATian, we hope you're having a good day and that this mail finds you well. We would like to thank you for your interest in our CS Circle and attending the online meeting, your time and presence are much appreciated.\n",
    "\n",
    "We're glad to inform you that you are successfully accepted to join CS circle as a technical circle, Congratulations!  \n",
    "\n",
    "Kindly join the circle’s facebook group from here\n",
    "https://www.facebook.com/groups/456065875746041/?ref=share\n",
    "\n",
    "Have a good day and don't hesitate to contact us if you have any inquiries\n",
    "https://www.facebook.com/catreloaded.hr.7\n",
    "\"\"\""
   ]
  },
  {
   "cell_type": "code",
   "execution_count": 12,
   "metadata": {},
   "outputs": [
    {
     "name": "stdout",
     "output_type": "stream",
     "text": [
      "Email to Mohamed.02.badr@gmail.com successfully sent!\n",
      "\n",
      "\n",
      "Email to Mobadr@students.mans.edu.eg successfully sent!\n",
      "\n",
      "\n",
      "Email to mohamedbadrmohamedv@gmail.com successfully sent!\n",
      "\n",
      "\n",
      "Email to nan could not be sent :( because {'nan': (553, b'5.1.3 The recipient address <nan> is not a valid RFC-5321 address. l5sm15736411wro.4 - gsmtp')}\n",
      "\n",
      "\n",
      "Email to nan could not be sent :( because {'nan': (553, b'5.1.3 The recipient address <nan> is not a valid RFC-5321 address. i133sm14451986wmi.40 - gsmtp')}\n",
      "\n",
      "\n",
      "Email to nan could not be sent :( because {'nan': (553, b'5.1.3 The recipient address <nan> is not a valid RFC-5321 address. r24sm824553wmh.8 - gsmtp')}\n",
      "\n",
      "\n"
     ]
    }
   ],
   "source": [
    "for idx in range(len(all_emails)):\n",
    "    newMessage = EmailMessage()\n",
    "    # Get each records name, email, subject and message\n",
    "    newMessage['To'] =all_emails[idx]\n",
    "    newMessage['Subject'] =Subject\n",
    "\n",
    "    newMessage.set_content(Message)\n",
    "    newMessage['From'] =your_name \n",
    "\n",
    "\n",
    "    try:    \n",
    "        with smtplib.SMTP_SSL('smtp.gmail.com', 465) as smtp:\n",
    "\n",
    "            smtp.login(Sender_Email, password)              \n",
    "            smtp.send_message(newMessage)\n",
    "            print('Email to {} successfully sent!\\n\\n'.format(all_emails[idx]))\n",
    "    except Exception as e:\n",
    "        print('Email to {} could not be sent :( because {}\\n\\n'.format(all_emails[idx], str(e)))\n",
    "        "
   ]
  },
  {
   "cell_type": "code",
   "execution_count": null,
   "metadata": {},
   "outputs": [],
   "source": []
  }
 ],
 "metadata": {
  "kernelspec": {
   "display_name": "Python 3",
   "language": "python",
   "name": "python3"
  },
  "language_info": {
   "codemirror_mode": {
    "name": "ipython",
    "version": 3
   },
   "file_extension": ".py",
   "mimetype": "text/x-python",
   "name": "python",
   "nbconvert_exporter": "python",
   "pygments_lexer": "ipython3",
   "version": "3.7.6"
  }
 },
 "nbformat": 4,
 "nbformat_minor": 4
}
