{
 "cells": [
  {
   "cell_type": "code",
   "execution_count": null,
   "metadata": {},
   "outputs": [],
   "source": [
    "import qrcode\n",
    "from PIL import Image\n",
    "img_bg = Image.open('2.png')\n",
    "qr = qrcode.QRCode(version = 1,box_size=3,border=4)\n",
    "qr.add_data('CAT Scope 21\\nBootcamp : Data Science\\nFrom\\n11 AM : 3 PM\\nName : Mohamed Badr\\nGmail : mohamed.02.badr@gmail.com  ')\n",
    "qr.make()\n",
    "img_qr = qr.make_image()\n",
    "#img_qr = qr.make_image(fill_color=\"#bb231a\", back_color=\"#3a4c8c\")\n",
    "pos = (0, img_bg.size[1] - img_qr.size[1])\n",
    "img_bg.paste(img_qr, pos)\n",
    "img_bg.save('2.png')"
   ]
  }
 ],
 "metadata": {
  "kernelspec": {
   "display_name": "Python 3",
   "language": "python",
   "name": "python3"
  },
  "language_info": {
   "codemirror_mode": {
    "name": "ipython",
    "version": 3
   },
   "file_extension": ".py",
   "mimetype": "text/x-python",
   "name": "python",
   "nbconvert_exporter": "python",
   "pygments_lexer": "ipython3",
   "version": "3.7.6"
  }
 },
 "nbformat": 4,
 "nbformat_minor": 4
}
